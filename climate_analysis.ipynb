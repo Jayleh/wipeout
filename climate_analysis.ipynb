{
 "cells": [
  {
   "cell_type": "code",
   "execution_count": 66,
   "metadata": {
    "collapsed": true
   },
   "outputs": [],
   "source": [
    "# Dependencies\n",
    "import sqlalchemy\n",
    "from sqlalchemy import create_engine, func\n",
    "from sqlalchemy.ext.automap import automap_base\n",
    "from sqlalchemy.orm import Session\n",
    "import datetime as dt\n",
    "import pandas as pd\n",
    "import numpy as np\n",
    "import matplotlib.pyplot as plt\n",
    "import seaborn as sns"
   ]
  },
  {
   "cell_type": "code",
   "execution_count": 67,
   "metadata": {
    "collapsed": true
   },
   "outputs": [],
   "source": [
    "# Create engine\n",
    "engine = create_engine(\"sqlite:///database/hawaii.sqlite\")\n",
    "\n",
    "# Declare Base\n",
    "Base = automap_base()\n",
    "\n",
    "# Use Base class to reflect database tables\n",
    "Base.prepare(engine, reflect=True)"
   ]
  },
  {
   "cell_type": "code",
   "execution_count": 68,
   "metadata": {},
   "outputs": [
    {
     "data": {
      "text/plain": [
       "['measurements', 'stations']"
      ]
     },
     "execution_count": 68,
     "metadata": {},
     "output_type": "execute_result"
    }
   ],
   "source": [
    "# Check out tables\n",
    "Base.classes.keys()"
   ]
  },
  {
   "cell_type": "code",
   "execution_count": 69,
   "metadata": {
    "collapsed": true
   },
   "outputs": [],
   "source": [
    "# Assign measurements class to variable\n",
    "Measurement = Base.classes.measurements\n",
    "\n",
    "# Assign stations class to variable\n",
    "Station = Base.classes.stations"
   ]
  },
  {
   "cell_type": "code",
   "execution_count": 70,
   "metadata": {
    "collapsed": true
   },
   "outputs": [],
   "source": [
    "# Create a session\n",
    "session = Session(engine)"
   ]
  },
  {
   "cell_type": "code",
   "execution_count": 71,
   "metadata": {},
   "outputs": [
    {
     "data": {
      "text/plain": [
       "{'_sa_instance_state': <sqlalchemy.orm.state.InstanceState at 0x1f05b91b400>,\n",
       " 'date': '2010-01-01',\n",
       " 'id': 1,\n",
       " 'prcp': 0.08,\n",
       " 'station': 'USC00519397',\n",
       " 'tobs': 65}"
      ]
     },
     "execution_count": 71,
     "metadata": {},
     "output_type": "execute_result"
    }
   ],
   "source": [
    "# Display the row's columns and data in dictionary format\n",
    "first_row = session.query(Measurement).first()\n",
    "first_row.__dict__"
   ]
  },
  {
   "cell_type": "code",
   "execution_count": 72,
   "metadata": {},
   "outputs": [
    {
     "data": {
      "text/plain": [
       "[(1, 'USC00519397', '2010-01-01', 0.08, 65),\n",
       " (2, 'USC00519397', '2010-01-02', 0, 63),\n",
       " (3, 'USC00519397', '2010-01-03', 0, 74),\n",
       " (4, 'USC00519397', '2010-01-04', 0, 76),\n",
       " (5, 'USC00519397', '2010-01-07', 0.06, 70),\n",
       " (6, 'USC00519397', '2010-01-08', 0, 64),\n",
       " (7, 'USC00519397', '2010-01-09', 0, 68),\n",
       " (8, 'USC00519397', '2010-01-10', 0, 73),\n",
       " (9, 'USC00519397', '2010-01-11', 0.01, 64),\n",
       " (10, 'USC00519397', '2010-01-12', 0, 61)]"
      ]
     },
     "execution_count": 72,
     "metadata": {},
     "output_type": "execute_result"
    }
   ],
   "source": [
    "# Show top 10 rows of measurement table\n",
    "session.query(Measurement.id, Measurement.station, Measurement.date, Measurement.prcp, Measurement.tobs).limit(10).all()"
   ]
  },
  {
   "cell_type": "markdown",
   "metadata": {},
   "source": [
    "# Precipitation Analysis"
   ]
  },
  {
   "cell_type": "code",
   "execution_count": 73,
   "metadata": {},
   "outputs": [
    {
     "data": {
      "text/plain": [
       "[(2685, 'USC00519397', '2017-08-23', 0, 81),\n",
       " (7318, 'USC00514830', '2017-08-23', 0, 82),\n",
       " (10915, 'USC00519523', '2017-08-23', 0.08, 82),\n",
       " (18103, 'USC00516128', '2017-08-23', 0.45, 76),\n",
       " (2684, 'USC00519397', '2017-08-22', 0, 82)]"
      ]
     },
     "execution_count": 73,
     "metadata": {},
     "output_type": "execute_result"
    }
   ],
   "source": [
    "# See latest dates\n",
    "session.query(Measurement.id, Measurement.station, Measurement.date, Measurement.prcp, Measurement.tobs).\\\n",
    "    order_by(Measurement.date.desc()).limit(5).all()"
   ]
  },
  {
   "cell_type": "code",
   "execution_count": 74,
   "metadata": {
    "scrolled": true
   },
   "outputs": [
    {
     "data": {
      "text/html": [
       "<div>\n",
       "<style>\n",
       "    .dataframe thead tr:only-child th {\n",
       "        text-align: right;\n",
       "    }\n",
       "\n",
       "    .dataframe thead th {\n",
       "        text-align: left;\n",
       "    }\n",
       "\n",
       "    .dataframe tbody tr th {\n",
       "        vertical-align: top;\n",
       "    }\n",
       "</style>\n",
       "<table border=\"1\" class=\"dataframe\">\n",
       "  <thead>\n",
       "    <tr style=\"text-align: right;\">\n",
       "      <th></th>\n",
       "      <th>prcp</th>\n",
       "    </tr>\n",
       "    <tr>\n",
       "      <th>date</th>\n",
       "      <th></th>\n",
       "    </tr>\n",
       "  </thead>\n",
       "  <tbody>\n",
       "    <tr>\n",
       "      <th>2016-08-23</th>\n",
       "      <td>0.00</td>\n",
       "    </tr>\n",
       "    <tr>\n",
       "      <th>2016-08-24</th>\n",
       "      <td>0.08</td>\n",
       "    </tr>\n",
       "    <tr>\n",
       "      <th>2016-08-25</th>\n",
       "      <td>0.08</td>\n",
       "    </tr>\n",
       "    <tr>\n",
       "      <th>2016-08-26</th>\n",
       "      <td>0.00</td>\n",
       "    </tr>\n",
       "    <tr>\n",
       "      <th>2016-08-27</th>\n",
       "      <td>0.00</td>\n",
       "    </tr>\n",
       "  </tbody>\n",
       "</table>\n",
       "</div>"
      ],
      "text/plain": [
       "            prcp\n",
       "date            \n",
       "2016-08-23  0.00\n",
       "2016-08-24  0.08\n",
       "2016-08-25  0.08\n",
       "2016-08-26  0.00\n",
       "2016-08-27  0.00"
      ]
     },
     "execution_count": 74,
     "metadata": {},
     "output_type": "execute_result"
    }
   ],
   "source": [
    "# Query date for the past 12 months\n",
    "query_date = dt.date(2017, 8, 23) - dt.timedelta(days=365)\n",
    "\n",
    "# Query for precipitation\n",
    "prcp_data = session.query(Measurement.date, Measurement.prcp).\\\n",
    "                filter(Measurement.date >= query_date).all()\n",
    "    \n",
    "# Create dataframe from query\n",
    "prcp_df = pd.DataFrame(prcp_data)\n",
    "\n",
    "# Change column types\n",
    "prcp_df[\"date\"] = pd.to_datetime(prcp_df[\"date\"])\n",
    "prcp_df[\"prcp\"] = pd.to_numeric(prcp_df[\"prcp\"])\n",
    "\n",
    "# Set date as index\n",
    "prcp_df = prcp_df.set_index([\"date\"])\n",
    "prcp_df.head()"
   ]
  },
  {
   "cell_type": "code",
   "execution_count": 75,
   "metadata": {},
   "outputs": [
    {
     "data": {
      "image/png": "[encoded data removed]",
      "text/plain": [
       "<matplotlib.figure.Figure at 0x1f05b9904e0>"
      ]
     },
     "metadata": {},
     "output_type": "display_data"
    }
   ],
   "source": [
    "# Seaborn default\n",
    "ax = sns.set()\n",
    "\n",
    "# Use DataFrame.plot() in order to create a bar chart of the data\n",
    "prcp_df.plot(kind=\"line\", color=\"dodgerblue\", linewidth=5, figsize=(14, 10), fontsize=18, ax=ax)\n",
    "\n",
    "# Set a title for the chart\n",
    "plt.title(\"Precipitation (Past 12 Months)\", fontsize=18)\n",
    "plt.xlabel(\"Date\", fontsize=18)\n",
    "plt.ylabel(\"Precipitation (in)\", fontsize=18)\n",
    "plt.legend(fontsize=18)\n",
    "\n",
    "# Show\n",
    "plt.show()"
   ]
  },
  {
   "cell_type": "code",
   "execution_count": 76,
   "metadata": {},
   "outputs": [
    {
     "data": {
      "text/html": [
       "<div>\n",
       "<style>\n",
       "    .dataframe thead tr:only-child th {\n",
       "        text-align: right;\n",
       "    }\n",
       "\n",
       "    .dataframe thead th {\n",
       "        text-align: left;\n",
       "    }\n",
       "\n",
       "    .dataframe tbody tr th {\n",
       "        vertical-align: top;\n",
       "    }\n",
       "</style>\n",
       "<table border=\"1\" class=\"dataframe\">\n",
       "  <thead>\n",
       "    <tr style=\"text-align: right;\">\n",
       "      <th></th>\n",
       "      <th>prcp</th>\n",
       "    </tr>\n",
       "  </thead>\n",
       "  <tbody>\n",
       "    <tr>\n",
       "      <th>count</th>\n",
       "      <td>2021.000000</td>\n",
       "    </tr>\n",
       "    <tr>\n",
       "      <th>mean</th>\n",
       "      <td>0.177279</td>\n",
       "    </tr>\n",
       "    <tr>\n",
       "      <th>std</th>\n",
       "      <td>0.461190</td>\n",
       "    </tr>\n",
       "    <tr>\n",
       "      <th>min</th>\n",
       "      <td>0.000000</td>\n",
       "    </tr>\n",
       "    <tr>\n",
       "      <th>25%</th>\n",
       "      <td>0.000000</td>\n",
       "    </tr>\n",
       "    <tr>\n",
       "      <th>50%</th>\n",
       "      <td>0.020000</td>\n",
       "    </tr>\n",
       "    <tr>\n",
       "      <th>75%</th>\n",
       "      <td>0.130000</td>\n",
       "    </tr>\n",
       "    <tr>\n",
       "      <th>max</th>\n",
       "      <td>6.700000</td>\n",
       "    </tr>\n",
       "  </tbody>\n",
       "</table>\n",
       "</div>"
      ],
      "text/plain": [
       "              prcp\n",
       "count  2021.000000\n",
       "mean      0.177279\n",
       "std       0.461190\n",
       "min       0.000000\n",
       "25%       0.000000\n",
       "50%       0.020000\n",
       "75%       0.130000\n",
       "max       6.700000"
      ]
     },
     "execution_count": 76,
     "metadata": {},
     "output_type": "execute_result"
    }
   ],
   "source": [
    "# Summary statistics\n",
    "prcp_df.describe()"
   ]
  },
  {
   "cell_type": "markdown",
   "metadata": {},
   "source": [
    "# Station Analysis"
   ]
  },
  {
   "cell_type": "code",
   "execution_count": 77,
   "metadata": {},
   "outputs": [
    {
     "data": {
      "text/plain": [
       "{'_sa_instance_state': <sqlalchemy.orm.state.InstanceState at 0x1f05b8bcf98>,\n",
       " 'elevation': 3.0,\n",
       " 'id': 1,\n",
       " 'latitude': 21.2716,\n",
       " 'longitude': -157.8168,\n",
       " 'name': 'WAIKIKI 717.2, HI US',\n",
       " 'station': 'USC00519397'}"
      ]
     },
     "execution_count": 77,
     "metadata": {},
     "output_type": "execute_result"
    }
   ],
   "source": [
    "# Check out table columns\n",
    "session.query(Station).first().__dict__"
   ]
  },
  {
   "cell_type": "code",
   "execution_count": 78,
   "metadata": {},
   "outputs": [
    {
     "name": "stdout",
     "output_type": "stream",
     "text": [
      "Number of stations: 9\n"
     ]
    }
   ],
   "source": [
    "# Query to calculate the total number of stations\n",
    "num_stations = session.query(Station.id).count()\n",
    "print(f\"Number of stations: {num_stations}\")"
   ]
  },
  {
   "cell_type": "code",
   "execution_count": 79,
   "metadata": {},
   "outputs": [
    {
     "data": {
      "text/plain": [
       "[('USC00519281', 'WAIHEE 837.5, HI US', 2772),\n",
       " ('USC00513117', 'KANEOHE 838.1, HI US', 2696),\n",
       " ('USC00519397', 'WAIKIKI 717.2, HI US', 2685),\n",
       " ('USC00519523', 'WAIMANALO EXPERIMENTAL FARM, HI US', 2572),\n",
       " ('USC00516128', 'MANOA LYON ARBO 785.2, HI US', 2484),\n",
       " ('USC00514830', 'KUALOA RANCH HEADQUARTERS 886.9, HI US', 1937),\n",
       " ('USC00511918', 'HONOLULU OBSERVATORY 702.2, HI US', 1932),\n",
       " ('USC00517948', 'PEARL CITY, HI US', 683),\n",
       " ('USC00518838', 'UPPER WAHIAWA 874.3, HI US', 342)]"
      ]
     },
     "execution_count": 79,
     "metadata": {},
     "output_type": "execute_result"
    }
   ],
   "source": [
    "# Query to find the most active stations\n",
    "session.query(Measurement.station, Station.name, func.count(Measurement.id)).\\\n",
    "    filter(Measurement.station == Station.station).\\\n",
    "    group_by(Measurement.station).\\\n",
    "    order_by(func.count(Measurement.id).desc()).all()"
   ]
  },
  {
   "cell_type": "markdown",
   "metadata": {},
   "source": [
    "###### USC00519281, WAIHEE 837.5, HI US has the highest number of observations of 2772."
   ]
  },
  {
   "cell_type": "code",
   "execution_count": 80,
   "metadata": {},
   "outputs": [
    {
     "data": {
      "text/html": [
       "<div>\n",
       "<style>\n",
       "    .dataframe thead tr:only-child th {\n",
       "        text-align: right;\n",
       "    }\n",
       "\n",
       "    .dataframe thead th {\n",
       "        text-align: left;\n",
       "    }\n",
       "\n",
       "    .dataframe tbody tr th {\n",
       "        vertical-align: top;\n",
       "    }\n",
       "</style>\n",
       "<table border=\"1\" class=\"dataframe\">\n",
       "  <thead>\n",
       "    <tr style=\"text-align: right;\">\n",
       "      <th></th>\n",
       "      <th>station</th>\n",
       "      <th>date</th>\n",
       "      <th>tobs</th>\n",
       "    </tr>\n",
       "  </thead>\n",
       "  <tbody>\n",
       "    <tr>\n",
       "      <th>0</th>\n",
       "      <td>USC00519281</td>\n",
       "      <td>2016-08-24</td>\n",
       "      <td>77</td>\n",
       "    </tr>\n",
       "    <tr>\n",
       "      <th>1</th>\n",
       "      <td>USC00519281</td>\n",
       "      <td>2016-08-25</td>\n",
       "      <td>80</td>\n",
       "    </tr>\n",
       "    <tr>\n",
       "      <th>2</th>\n",
       "      <td>USC00519281</td>\n",
       "      <td>2016-08-26</td>\n",
       "      <td>80</td>\n",
       "    </tr>\n",
       "    <tr>\n",
       "      <th>3</th>\n",
       "      <td>USC00519281</td>\n",
       "      <td>2016-08-27</td>\n",
       "      <td>75</td>\n",
       "    </tr>\n",
       "    <tr>\n",
       "      <th>4</th>\n",
       "      <td>USC00519281</td>\n",
       "      <td>2016-08-28</td>\n",
       "      <td>73</td>\n",
       "    </tr>\n",
       "  </tbody>\n",
       "</table>\n",
       "</div>"
      ],
      "text/plain": [
       "       station        date  tobs\n",
       "0  USC00519281  2016-08-24    77\n",
       "1  USC00519281  2016-08-25    80\n",
       "2  USC00519281  2016-08-26    80\n",
       "3  USC00519281  2016-08-27    75\n",
       "4  USC00519281  2016-08-28    73"
      ]
     },
     "execution_count": 80,
     "metadata": {},
     "output_type": "execute_result"
    }
   ],
   "source": [
    "# Query date for the past 12 months\n",
    "query_date = dt.date(2017, 8, 23) - dt.timedelta(days=365)\n",
    "\n",
    "# Query to retrieve the last 12 months of temperature observation data (tobs)\n",
    "tobs_data = session.query(Measurement.station, Measurement.date, Measurement.tobs).\\\n",
    "                filter(Measurement.date > query_date).\\\n",
    "                filter(Measurement.station == \"USC00519281\").all()\n",
    "\n",
    "# Create tobs datafram\n",
    "tobs_df = pd.DataFrame(tobs_data)\n",
    "tobs_df.head()"
   ]
  },
  {
   "cell_type": "code",
   "execution_count": 81,
   "metadata": {},
   "outputs": [
    {
     "data": {
      "image/png": "[encoded data removed]",
      "text/plain": [
       "<matplotlib.figure.Figure at 0x1f05b8c2780>"
      ]
     },
     "metadata": {},
     "output_type": "display_data"
    }
   ],
   "source": [
    "# Seaborn default\n",
    "ax = sns.set()\n",
    "\n",
    "# Plot\n",
    "tobs_df.plot(kind=\"hist\", color=\"dodgerblue\", bins=12, figsize=(10, 8), fontsize=18, ax=ax)\n",
    "\n",
    "# Labels\n",
    "plt.title(\"WAIHEE 837.5, HI US Temperature Observation Data (Past 12 Months)\", fontsize=18)\n",
    "plt.xlabel(\"Temperature (F)\", fontsize=16)\n",
    "plt.ylabel(\"Frequency\", fontsize=16)\n",
    "plt.legend(fontsize=16)\n",
    "\n",
    "# Show plot\n",
    "plt.show()"
   ]
  },
  {
   "cell_type": "markdown",
   "metadata": {},
   "source": [
    "# Temperature Analysis"
   ]
  },
  {
   "cell_type": "code",
   "execution_count": 82,
   "metadata": {},
   "outputs": [
    {
     "name": "stdout",
     "output_type": "stream",
     "text": [
      "2017-01-01 00:00:00\n",
      "2017-01-01\n"
     ]
    }
   ],
   "source": [
    "new_start_date = dt.datetime.strptime(\"2018-01-01\", \"%Y-%m-%d\") - dt.timedelta(days=365)\n",
    "print(new_start_date)\n",
    "\n",
    "new_start_date = dt.datetime.strftime(new_start_date, \"%Y-%m-%d\")\n",
    "print(new_start_date)"
   ]
  },
  {
   "cell_type": "code",
   "execution_count": 83,
   "metadata": {
    "collapsed": true
   },
   "outputs": [],
   "source": [
    "def calc_temps(start_date, end_date):\n",
    "    # Convert dates to datetime objects and use previous year's dates\n",
    "    new_start_date = dt.datetime.strptime(start_date, \"%Y-%m-%d\") - dt.timedelta(days=365)\n",
    "    new_end_date = dt.datetime.strptime(end_date, \"%Y-%m-%d\") - dt.timedelta(days=365)\n",
    "    \n",
    "    # Convert dates back to strings\n",
    "    new_start_date = dt.datetime.strftime(new_start_date, \"%Y-%m-%d\")\n",
    "    new_end_date = dt.datetime.strftime(new_end_date, \"%Y-%m-%d\")\n",
    "    \n",
    "    # Query to filter data for those dates\n",
    "    temp = session.query(Measurement.tobs).\\\n",
    "                filter(Measurement.date >= new_start_date).\\\n",
    "                filter(Measurement.date <= new_end_date).all()\n",
    "    \n",
    "    # Convert list of tuples into normal list\n",
    "    temp = list(np.ravel(temp))\n",
    "    \n",
    "    # Calculate minimum temperature\n",
    "    min_temp = min(temp)\n",
    "    \n",
    "    # Calculate average temperature\n",
    "    avg_temp = np.mean(temp)\n",
    "    \n",
    "    # Calculate maximum temperature\n",
    "    max_temp = max(temp)\n",
    "    \n",
    "    return min_temp, avg_temp, max_temp"
   ]
  },
  {
   "cell_type": "code",
   "execution_count": 84,
   "metadata": {},
   "outputs": [
    {
     "name": "stdout",
     "output_type": "stream",
     "text": [
      "Trip Temperature Range\n",
      "------------\n",
      "Minimum temp: 67\n",
      "Average temp: 72.8\n",
      "Maximum temp: 83\n"
     ]
    }
   ],
   "source": [
    "# Get min, avg, and max temp for date range\n",
    "min_temp, avg_temp, max_temp = calc_temps(\"2018-04-14\", \"2018-04-22\")\n",
    "\n",
    "# Print to console\n",
    "print(\"Trip Temperature Range\")\n",
    "print(\"-\"*12)\n",
    "print(f\"Minimum temp: {min_temp}\")\n",
    "print(f\"Average temp: {avg_temp:.1f}\")\n",
    "print(f\"Maximum temp: {max_temp}\")"
   ]
  },
  {
   "cell_type": "code",
   "execution_count": 85,
   "metadata": {},
   "outputs": [
    {
     "data": {
      "image/png": "[encoded data removed]",
      "text/plain": [
       "<matplotlib.figure.Figure at 0x1f05b8bc860>"
      ]
     },
     "metadata": {},
     "output_type": "display_data"
    }
   ],
   "source": [
    "# Set figure size\n",
    "plt.figure(figsize=(2.5,6))\n",
    "\n",
    "# Calculate tmin and tmax of yerr\n",
    "yerr_min = abs(avg_temp - min_temp)\n",
    "yerr_max = abs(avg_temp - max_temp)\n",
    "\n",
    "# Create bar plot\n",
    "plt.bar(\"\", avg_temp, yerr=([yerr_min], [yerr_max]), color=\"lightcoral\")\n",
    "\n",
    "# Increase y tick labelsize\n",
    "plt.tick_params(axis='y', which='major', labelsize=16)\n",
    "\n",
    "# Labels\n",
    "plt.title(\"Trip Average Temperature\", fontsize=18)\n",
    "plt.ylabel(\"Temperature (F)\", fontsize=18)\n",
    "\n",
    "# Show plot\n",
    "plt.show()"
   ]
  },
  {
   "cell_type": "markdown",
   "metadata": {},
   "source": [
    "# Rainfall Analysis"
   ]
  },
  {
   "cell_type": "code",
   "execution_count": 86,
   "metadata": {},
   "outputs": [
    {
     "data": {
      "text/html": [
       "<div>\n",
       "<style>\n",
       "    .dataframe thead tr:only-child th {\n",
       "        text-align: right;\n",
       "    }\n",
       "\n",
       "    .dataframe thead th {\n",
       "        text-align: left;\n",
       "    }\n",
       "\n",
       "    .dataframe tbody tr th {\n",
       "        vertical-align: top;\n",
       "    }\n",
       "</style>\n",
       "<table border=\"1\" class=\"dataframe\">\n",
       "  <thead>\n",
       "    <tr style=\"text-align: right;\">\n",
       "      <th></th>\n",
       "      <th>Station Name</th>\n",
       "      <th>Total Precipitation (Past 12 Months)</th>\n",
       "    </tr>\n",
       "  </thead>\n",
       "  <tbody>\n",
       "    <tr>\n",
       "      <th>0</th>\n",
       "      <td>MANOA LYON ARBO 785.2, HI US</td>\n",
       "      <td>147.81</td>\n",
       "    </tr>\n",
       "    <tr>\n",
       "      <th>1</th>\n",
       "      <td>WAIHEE 837.5, HI US</td>\n",
       "      <td>70.03</td>\n",
       "    </tr>\n",
       "    <tr>\n",
       "      <th>2</th>\n",
       "      <td>KANEOHE 838.1, HI US</td>\n",
       "      <td>48.51</td>\n",
       "    </tr>\n",
       "    <tr>\n",
       "      <th>3</th>\n",
       "      <td>WAIMANALO EXPERIMENTAL FARM, HI US</td>\n",
       "      <td>38.01</td>\n",
       "    </tr>\n",
       "    <tr>\n",
       "      <th>4</th>\n",
       "      <td>KUALOA RANCH HEADQUARTERS 886.9, HI US</td>\n",
       "      <td>33.24</td>\n",
       "    </tr>\n",
       "  </tbody>\n",
       "</table>\n",
       "</div>"
      ],
      "text/plain": [
       "                             Station Name  \\\n",
       "0            MANOA LYON ARBO 785.2, HI US   \n",
       "1                     WAIHEE 837.5, HI US   \n",
       "2                    KANEOHE 838.1, HI US   \n",
       "3      WAIMANALO EXPERIMENTAL FARM, HI US   \n",
       "4  KUALOA RANCH HEADQUARTERS 886.9, HI US   \n",
       "\n",
       "   Total Precipitation (Past 12 Months)  \n",
       "0                                147.81  \n",
       "1                                 70.03  \n",
       "2                                 48.51  \n",
       "3                                 38.01  \n",
       "4                                 33.24  "
      ]
     },
     "execution_count": 86,
     "metadata": {},
     "output_type": "execute_result"
    }
   ],
   "source": [
    "# Query date for the past 12 months\n",
    "query_date = dt.date(2017, 8, 23) - dt.timedelta(days=365)\n",
    "\n",
    "# Calcualte the rainfall per weather station using the previous year's matching dates\n",
    "precip_data = session.query(Station.name, func.sum(Measurement.prcp)).\\\n",
    "                filter(Measurement.station == Station.station).\\\n",
    "                filter(Measurement.date >= query_date).\\\n",
    "                group_by(Station.name).\\\n",
    "                order_by(func.sum(Measurement.prcp).desc()).all()\n",
    "\n",
    "# Create dataframe\n",
    "precip_df = pd.DataFrame(precip_data, columns=['Station Name', 'Total Precipitation (Past 12 Months)'])\n",
    "precip_df.head()"
   ]
  },
  {
   "cell_type": "code",
   "execution_count": 87,
   "metadata": {
    "collapsed": true
   },
   "outputs": [],
   "source": [
    "def daily_normals(a_date):\n",
    "    \"\"\"\n",
    "    Grab min, avg, max temperatures for historic dates.\n",
    "    \"\"\"\n",
    "    \n",
    "    # Query to grab all historic temperatures by date\n",
    "    temps = session.query(Measurement.tobs).\\\n",
    "                filter(Measurement.date.like(f\"%{a_date}\")).all()\n",
    "    \n",
    "    # Convert list of tuples into normal list\n",
    "    temps = list(np.ravel(temps))\n",
    "    \n",
    "    # Calculate min, avg, and max temps\n",
    "    min_temp = min(temps).astype(np.float)\n",
    "    avg_temp = np.mean(temps).round(1).astype(np.float)\n",
    "    max_temp = max(temps).astype(np.float)\n",
    "    \n",
    "    return min_temp, avg_temp, max_temp"
   ]
  },
  {
   "cell_type": "code",
   "execution_count": 88,
   "metadata": {
    "scrolled": true
   },
   "outputs": [
    {
     "data": {
      "text/plain": [
       "(67.0, 76.799999999999997, 87.0)"
      ]
     },
     "execution_count": 88,
     "metadata": {},
     "output_type": "execute_result"
    }
   ],
   "source": [
    "# Check daily_normals function\n",
    "daily_normals(\"8-23\")"
   ]
  },
  {
   "cell_type": "code",
   "execution_count": 89,
   "metadata": {
    "collapsed": true
   },
   "outputs": [],
   "source": [
    "def calc_trip_temps(start_date, end_date):\n",
    "    \"\"\"\n",
    "    Returns dataframe of min, avg, and max temps for each day of trip.\n",
    "    \"\"\"\n",
    "    # Calculate trip duration in days\n",
    "    trip_duration =  (dt.datetime.strptime(end_date, \"%Y-%m-%d\") - dt.datetime.strptime(start_date, \"%Y-%m-%d\")).days\n",
    "    \n",
    "    # Instantiate trip_datetime\n",
    "    trip_datetime = dt.datetime.strptime(start_date, \"%Y-%m-%d\")\n",
    "    \n",
    "    # List to hold all dates for trip, start with start date\n",
    "    trip_date_list = [start_date]\n",
    "    \n",
    "    # List to hold month-day to loop through for daily_normals function\n",
    "    month_day_list = [f\"{dt.datetime.strftime(trip_datetime, '%m-%d')}\"]\n",
    "    \n",
    "    for day in range(trip_duration):\n",
    "        \n",
    "        # Convert date to datetime, add one day\n",
    "        trip_datetime += dt.timedelta(days=1)\n",
    "        \n",
    "        # Convert datetime to string\n",
    "        trip_date = dt.datetime.strftime(trip_datetime, \"%Y-%m-%d\")\n",
    "        \n",
    "        # Grab only month and day\n",
    "        month_day = f\"{trip_datetime.month}-{trip_datetime.day}\"\n",
    "        \n",
    "        # Append trip date to list of trip dates\n",
    "        trip_date_list.append(trip_date)\n",
    "        month_day_list.append(month_day)\n",
    "    \n",
    "    # Create lists to hold min, avg, and max temperatures\n",
    "    min_temp_list = []\n",
    "    avg_temp_list = []\n",
    "    max_temp_list = []\n",
    "        \n",
    "    # Loop through each date in trip date list\n",
    "    for date in month_day_list:\n",
    "        \n",
    "        # Pass date into daily_normals function\n",
    "        min_temp, avg_temp, max_temp = daily_normals(date)\n",
    "        \n",
    "        # Append returns to lists\n",
    "        min_temp_list.append(min_temp)\n",
    "        avg_temp_list.append(avg_temp)\n",
    "        max_temp_list.append(max_temp)\n",
    "\n",
    "    # Create dataframe from lists\n",
    "    trip_temp_df = pd.DataFrame({\"Date\": trip_date_list, \n",
    "                                 \"Min Temp\": min_temp_list, \n",
    "                                 \"Avg Temp\": avg_temp_list, \n",
    "                                 \"Max Temp\": max_temp_list})\n",
    "    \n",
    "    # Reorder columns\n",
    "    trip_temp_df = trip_temp_df[[\"Date\", \"Min Temp\", \"Avg Temp\", \"Max Temp\"]]\n",
    "    \n",
    "    # Set date as index\n",
    "    trip_temp_df = trip_temp_df.set_index([\"Date\"])\n",
    "    \n",
    "    return trip_temp_df"
   ]
  },
  {
   "cell_type": "code",
   "execution_count": 90,
   "metadata": {},
   "outputs": [
    {
     "name": "stdout",
     "output_type": "stream",
     "text": [
      "8\n"
     ]
    }
   ],
   "source": [
    "trip_duration =  (dt.datetime.strptime(\"2018-04-22\", \"%Y-%m-%d\") - dt.datetime.strptime(\"2018-04-14\", \"%Y-%m-%d\")).days\n",
    "# trip_duration = trip_duration.days\n",
    "print(trip_duration)"
   ]
  },
  {
   "cell_type": "code",
   "execution_count": 91,
   "metadata": {},
   "outputs": [
    {
     "data": {
      "text/html": [
       "<div>\n",
       "<style>\n",
       "    .dataframe thead tr:only-child th {\n",
       "        text-align: right;\n",
       "    }\n",
       "\n",
       "    .dataframe thead th {\n",
       "        text-align: left;\n",
       "    }\n",
       "\n",
       "    .dataframe tbody tr th {\n",
       "        vertical-align: top;\n",
       "    }\n",
       "</style>\n",
       "<table border=\"1\" class=\"dataframe\">\n",
       "  <thead>\n",
       "    <tr style=\"text-align: right;\">\n",
       "      <th></th>\n",
       "      <th>Min Temp</th>\n",
       "      <th>Avg Temp</th>\n",
       "      <th>Max Temp</th>\n",
       "    </tr>\n",
       "    <tr>\n",
       "      <th>Date</th>\n",
       "      <th></th>\n",
       "      <th></th>\n",
       "      <th></th>\n",
       "    </tr>\n",
       "  </thead>\n",
       "  <tbody>\n",
       "    <tr>\n",
       "      <th>2018-04-14</th>\n",
       "      <td>65.0</td>\n",
       "      <td>72.7</td>\n",
       "      <td>81.0</td>\n",
       "    </tr>\n",
       "    <tr>\n",
       "      <th>2018-04-15</th>\n",
       "      <td>61.0</td>\n",
       "      <td>71.9</td>\n",
       "      <td>79.0</td>\n",
       "    </tr>\n",
       "    <tr>\n",
       "      <th>2018-04-16</th>\n",
       "      <td>63.0</td>\n",
       "      <td>71.6</td>\n",
       "      <td>81.0</td>\n",
       "    </tr>\n",
       "    <tr>\n",
       "      <th>2018-04-17</th>\n",
       "      <td>65.0</td>\n",
       "      <td>71.8</td>\n",
       "      <td>77.0</td>\n",
       "    </tr>\n",
       "    <tr>\n",
       "      <th>2018-04-18</th>\n",
       "      <td>67.0</td>\n",
       "      <td>72.4</td>\n",
       "      <td>77.0</td>\n",
       "    </tr>\n",
       "    <tr>\n",
       "      <th>2018-04-19</th>\n",
       "      <td>65.0</td>\n",
       "      <td>72.2</td>\n",
       "      <td>83.0</td>\n",
       "    </tr>\n",
       "    <tr>\n",
       "      <th>2018-04-20</th>\n",
       "      <td>64.0</td>\n",
       "      <td>72.4</td>\n",
       "      <td>80.0</td>\n",
       "    </tr>\n",
       "    <tr>\n",
       "      <th>2018-04-21</th>\n",
       "      <td>66.0</td>\n",
       "      <td>72.3</td>\n",
       "      <td>78.0</td>\n",
       "    </tr>\n",
       "    <tr>\n",
       "      <th>2018-04-22</th>\n",
       "      <td>65.0</td>\n",
       "      <td>72.8</td>\n",
       "      <td>84.0</td>\n",
       "    </tr>\n",
       "  </tbody>\n",
       "</table>\n",
       "</div>"
      ],
      "text/plain": [
       "            Min Temp  Avg Temp  Max Temp\n",
       "Date                                    \n",
       "2018-04-14      65.0      72.7      81.0\n",
       "2018-04-15      61.0      71.9      79.0\n",
       "2018-04-16      63.0      71.6      81.0\n",
       "2018-04-17      65.0      71.8      77.0\n",
       "2018-04-18      67.0      72.4      77.0\n",
       "2018-04-19      65.0      72.2      83.0\n",
       "2018-04-20      64.0      72.4      80.0\n",
       "2018-04-21      66.0      72.3      78.0\n",
       "2018-04-22      65.0      72.8      84.0"
      ]
     },
     "execution_count": 91,
     "metadata": {},
     "output_type": "execute_result"
    }
   ],
   "source": [
    "# Pass in trip start and end dates into calc_trip_temps to return min, avg, and max temps for each day\n",
    "trip_temps = calc_trip_temps(\"2018-04-14\", \"2018-04-22\")\n",
    "trip_temps"
   ]
  },
  {
   "cell_type": "code",
   "execution_count": 92,
   "metadata": {},
   "outputs": [
    {
     "data": {
      "image/png": "[encoded data removed]",
      "text/plain": [
       "<matplotlib.figure.Figure at 0x1f05b902710>"
      ]
     },
     "metadata": {},
     "output_type": "display_data"
    }
   ],
   "source": [
    "# Set colors\n",
    "pal = sns.color_palette(\"pastel\")\n",
    "\n",
    "# Plot lines\n",
    "fig = trip_temps.plot(kind='area', stacked=False, color=pal, linewidth=6, alpha= 0.4, \n",
    "                     figsize=(12, 8), fontsize=18)\n",
    "\n",
    "# Rotate dates\n",
    "# plt.tick_params(axis='x', which='major', rotation=45, right=True)\n",
    "fig.set_xticklabels(trip_temps.index.values, rotation=45, ha='right')\n",
    "\n",
    "# Limit\n",
    "plt.ylim(0, 90)\n",
    "\n",
    "# Gridlines\n",
    "plt.grid(color=\"lightslategrey\", alpha=0.3)\n",
    "\n",
    "# Labels\n",
    "plt.title(\"Trip Forecast\", fontsize=18)\n",
    "plt.xlabel(\"Date\", fontsize=18)\n",
    "plt.ylabel(\"Temperature (F)\", fontsize=18)\n",
    "plt.legend(frameon=True, fontsize=14)\n",
    "\n",
    "# Show\n",
    "plt.show()"
   ]
  }
 ],
 "metadata": {
  "kernelspec": {
   "display_name": "Python [conda env:PythonData]",
   "language": "python",
   "name": "conda-env-PythonData-py"
  },
  "language_info": {
   "codemirror_mode": {
    "name": "ipython",
    "version": 3
   },
   "file_extension": ".py",
   "mimetype": "text/x-python",
   "name": "python",
   "nbconvert_exporter": "python",
   "pygments_lexer": "ipython3",
   "version": "3.6.3"
  }
 },
 "nbformat": 4,
 "nbformat_minor": 2
}
